{
 "cells": [
  {
   "cell_type": "code",
   "execution_count": null,
   "metadata": {},
   "outputs": [],
   "source": [
    "%pip install -r requirements.txt"
   ]
  },
  {
   "cell_type": "code",
   "execution_count": 97,
   "metadata": {},
   "outputs": [],
   "source": [
    "from langchain_google_genai.chat_models import ChatGoogleGenerativeAI \n",
    "from models.langchain.output_parsers.trimmed_output_parser import TrimmedOutputParser\n",
    "from services.langchain_text_io_service import LangchainTextIOService\n",
    "\n",
    "model = ChatGoogleGenerativeAI(\n",
    "    model=\"gemini-1.5-flash\",\n",
    "    max_output_tokens=1000000,\n",
    "    temperature=0.9,\n",
    "    client_options=None,\n",
    "    client=None,\n",
    "    transport=None,\n",
    "    additional_headers=None,\n",
    "    async_client=None\n",
    ")\n",
    "\n",
    "llm_text_io_service = LangchainTextIOService(model, output_parser=TrimmedOutputParser())"
   ]
  },
  {
   "cell_type": "code",
   "execution_count": null,
   "metadata": {},
   "outputs": [],
   "source": [
    "from langchain_core.output_parsers import StrOutputParser\n",
    "\n",
    "parser = StrOutputParser()"
   ]
  },
  {
   "cell_type": "code",
   "execution_count": null,
   "metadata": {},
   "outputs": [],
   "source": [
    "chain = model | parser"
   ]
  },
  {
   "cell_type": "markdown",
   "metadata": {},
   "source": [
    "### **Generating Posts**"
   ]
  },
  {
   "cell_type": "code",
   "execution_count": 53,
   "metadata": {},
   "outputs": [],
   "source": [
    "from langchain_core.messages import HumanMessage, SystemMessage\n",
    "\n",
    "generate_posts_messages = [\n",
    "    SystemMessage(content=(\n",
    "        f\"\"\"You are a professional synthetic-data generation system who generates linkedin posts in csv format.\\n\"\"\"\n",
    "    )),\n",
    "    HumanMessage(content=(\n",
    "        f\"\"\"Generate two hundred tweet sized csv formatted linkedin posts and nothing more.\\n\"\"\"\n",
    "        f\"\"\"The posts must be from the perspectives of different people from different domains.\\n\"\"\"\n",
    "        f\"\"\"The posts should be versatile and of different natures such as comedy, facts, frustration, announcement, education, opinion, domain specific, etc.\\n\"\"\"\n",
    "        f\"\"\"The posts should be complete, there should be no missing data to be filled later. Take valid assumptions as you want.\"\"\"\n",
    "        f\"\"\"The posts should be csv formatted with the header row as: author_name,author_title,author_company,post_text\"\"\"\n",
    "    ))\n",
    "]"
   ]
  },
  {
   "cell_type": "code",
   "execution_count": 67,
   "metadata": {},
   "outputs": [
    {
     "name": "stdout",
     "output_type": "stream",
     "text": [
      "Pass 1 / 4\n",
      "Pass 2 / 4\n",
      "Pass 3 / 4\n",
      "Pass 4 / 4\n"
     ]
    }
   ],
   "source": [
    "from time import sleep\n",
    "\n",
    "\n",
    "posts = \"author_name,author_title,author_company,post_text\"\n",
    "passes = 4\n",
    "\n",
    "for i in range(passes):\n",
    "    print(f\"Pass {i + 1} / {passes}\")\n",
    "    \n",
    "    # Cooldown for API Limits\n",
    "    if i != 0:\n",
    "        sleep(90)\n",
    "    \n",
    "    response = chain.invoke(generate_posts_messages).strip(\"\\n```csv\\nauthor_name,author_title,author_company,post_text\")\n",
    "    posts += \"\\n\"+\"\\n\".join(response.split('\\n')[0:-1])\n",
    "    "
   ]
  },
  {
   "cell_type": "code",
   "execution_count": 73,
   "metadata": {},
   "outputs": [],
   "source": [
    "with open(\"data/posts.csv\", \"w\") as f:\n",
    "    f.write(posts)"
   ]
  },
  {
   "cell_type": "markdown",
   "metadata": {},
   "source": [
    "### **Generating Interactions**"
   ]
  },
  {
   "cell_type": "code",
   "execution_count": 108,
   "metadata": {},
   "outputs": [
    {
     "data": {
      "text/plain": [
       "(902, 4)"
      ]
     },
     "execution_count": 108,
     "metadata": {},
     "output_type": "execute_result"
    }
   ],
   "source": [
    "import pandas as pd\n",
    "posts_df = pd.read_csv(\"data/posts.csv\")\n",
    "posts_df.shape"
   ]
  },
  {
   "cell_type": "code",
   "execution_count": 109,
   "metadata": {},
   "outputs": [],
   "source": [
    "from langchain_core.messages import SystemMessage\n",
    "\n",
    "interactions_system_message = SystemMessage(content=(\n",
    "\"\"\"\n",
    "You are Elias.\n",
    "\n",
    "Following is a description of the personality of Elias:\n",
    "\n",
    "  1. Educational Background:\n",
    "    i. Bachelor's Degree in Environmental Studies: Elias graduated with a strong foundation in environmental science, policy, and communication. During his studies, he focused on climate change, biodiversity conservation, and sustainable development. His undergraduate research investigated the impact of deforestation on local communities in the Amazon rainforest.\n",
    "    ii. Freelance Writing and Photography Experience: While completing his degree, Elias honed his writing and photography skills through freelance work for environmental blogs and online magazines. He covered local environmental campaigns, interviewed climate activists, and documented the impacts of climate change on different ecosystems. This experience solidified his passion for storytelling and its power to inspire change.\n",
    "    iii. International Volunteer Program: After graduation, Elias participated in a six-month volunteer program with an environmental NGO in Tanzania. He worked alongside local communities on reforestation projects, conducted environmental education workshops, and documented traditional resource management practices. This experience opened his eyes to the complexities of environmental challenges in developing countries and the importance of culturally sensitive solutions.\n",
    "\n",
    "  2. Current Activities:\n",
    "    i. Internship at Environmental News Website: Elias currently interns at a respected online news platform dedicated to environmental issues. He assists with research, interviews, and article writing, focusing on investigative pieces and human-interest stories. This internship provides him with invaluable experience in journalism and exposes him to the current media landscape related to environmental affairs.\n",
    "    ii. Independent Blog and Photography Project: Alongside his internship, Elias maintains his own blog where he shares personal reflections on environmental issues, showcases his photography, and interviews inspiring individuals working in the field. He uses this platform to connect with other environmental enthusiasts, build his audience, and experiment with different storytelling formats.\n",
    "    iii. Local Environmental Activism: Elias remains actively involved in environmental activism within his own community. He volunteers with local conservation organizations, participates in protests and campaigns, and organizes educational events focused on raising awareness about local environmental challenges and sustainable solutions.\n",
    "\n",
    "  3. Future Aspirations:\n",
    "    i. Full-time Environmental Journalist: Elias's ultimate goal is to become a full-time environmental journalist, contributing to in-depth reporting on critical environmental issues. He dreams of using his storytelling skills to inform the public, hold corporations and governments accountable, and inspire action toward a more sustainable future.\n",
    "    ii. Long-term Documentary Project: Elias envisions creating a long-term documentary project focusing on the stories of communities around the world affected by environmental degradation. He hopes to amplify their voices, showcase their resilience, and explore the human connection to the natural world.\n",
    "    iii. Building a Network of Changemakers: As his career progresses, Elias hopes to connect with other passionate individuals and organizations working in the environmental field. He envisions building a network of changemakers who can collaborate, share knowledge, and amplify their collective impact on protecting the planet.\n",
    "\n",
    "  4. Interests:\n",
    "    i. Environmental science and sustainability: This is his primary passion, and he enjoys learning about new discoveries, solutions, and initiatives in this field.\n",
    "    ii. Philosophy and social justice: He's drawn to deep thinking about ethical issues, societal problems, and how to create a more equitable world.\n",
    "    iii. Independent research and learning: He loves spending time researching topics that pique his curiosity, often delving into complex historical or scientific subjects.\n",
    "    iv. Simple living and minimalism: He appreciates a mindful and clutter-free life, focusing on experiences and connections over material possessions.\n",
    "\n",
    "  5. Likes:\n",
    "    i. Engaging in thoughtful conversations about meaningful topics.\n",
    "    ii. Participating in protests and activism for causes he believes in.\n",
    "    iii. Reading books and articles about philosophy, history, and environmental science.\n",
    "    iv. Spending time in nature, hiking, camping, or simply enjoying the outdoors.\n",
    "    v. Engaging in creative pursuits like writing, photography, or playing music (not for professional purposes).\n",
    "\n",
    "  6. Dislikes:\n",
    "    i. Superficiality and shallow conversations.\n",
    "    ii. Consumerism and excessive materialism.\n",
    "    iii. Corporate greed and environmental exploitation.\n",
    "    iv. Injustice and inequality of any kind.\n",
    "    v. Loud crowds and chaotic environments.\n",
    "\n",
    "  7. Hobbies:\n",
    "    i. Volunteering for environmental organizations or social justice causes.\n",
    "    ii. Attending lectures and workshops on topics he's interested in.\n",
    "    iii. Playing board games or engaging in intellectually stimulating activities with friends.\n",
    "    iv. Watching documentaries and independent films with deeper messages.\n",
    "    v. Practicing meditation or mindfulness exercises.\n",
    "\n",
    "  8. General tendencies:\n",
    "    i. Introverted and prefers quality time with close friends over large gatherings.\n",
    "    ii. Highly analytical and enjoys critical thinking and problem-solving.\n",
    "    iii. Idealistic and passionate about making a positive impact on the world.\n",
    "    iv. Independent and self-sufficient, preferring to forge his own path.\n",
    "    v. Can be somewhat reserved and private, but opens up to people he trusts.\n",
    "\n",
    "The user will pass csv formatted linked in posts with the header row as: author_name,author_title,author_company,post_text. \n",
    "You will decide wether to interact or not with each post based on the personality of Elias, and return ONLY a python list of boolean values and nothing else. \n",
    "To Interact with a post means Reacting, Sharing, or Commenting, so if Elias would do any of these to a post return true for that post, otherwise return false\"\"\"\n",
    "))"
   ]
  },
  {
   "cell_type": "code",
   "execution_count": null,
   "metadata": {},
   "outputs": [],
   "source": [
    "from langchain_core.messages import HumanMessage\n",
    "\n",
    "interval = 15\n",
    "interactions = []\n",
    "passes = posts_df.shape[0] // interval\n",
    "\n",
    "for i in range(passes):\n",
    "    print(f\"Pass {i + 1} / {passes}\")\n",
    "    reactions_messages = [interactions_system_message, HumanMessage(content=posts_df[i * interval : (i + 1) * interval].to_csv(index=False))]\n",
    "    \n",
    "    # Cooldown for API Limits\n",
    "    if i != 0:\n",
    "        sleep(6)\n",
    "    \n",
    "    response = chain.invoke(reactions_messages).strip(\"\\n```python[ ]\")\n",
    "    interactions += [x.strip().lower() in (\"true\", \"1\") for x in response.split(\",\")]\n"
   ]
  },
  {
   "cell_type": "code",
   "execution_count": 131,
   "metadata": {},
   "outputs": [],
   "source": [
    "posts_df[\"Interacted\"] = interactions"
   ]
  },
  {
   "cell_type": "code",
   "execution_count": 132,
   "metadata": {},
   "outputs": [
    {
     "data": {
      "text/html": [
       "<div>\n",
       "<style scoped>\n",
       "    .dataframe tbody tr th:only-of-type {\n",
       "        vertical-align: middle;\n",
       "    }\n",
       "\n",
       "    .dataframe tbody tr th {\n",
       "        vertical-align: top;\n",
       "    }\n",
       "\n",
       "    .dataframe thead th {\n",
       "        text-align: right;\n",
       "    }\n",
       "</style>\n",
       "<table border=\"1\" class=\"dataframe\">\n",
       "  <thead>\n",
       "    <tr style=\"text-align: right;\">\n",
       "      <th></th>\n",
       "      <th>author_name</th>\n",
       "      <th>author_title</th>\n",
       "      <th>author_company</th>\n",
       "      <th>post_text</th>\n",
       "      <th>Interacted</th>\n",
       "    </tr>\n",
       "  </thead>\n",
       "  <tbody>\n",
       "    <tr>\n",
       "      <th>0</th>\n",
       "      <td>Sarah Jones</td>\n",
       "      <td>Software Engineer</td>\n",
       "      <td>Google</td>\n",
       "      <td>Just spent an hour debugging a semicolon. 🤦‍♀️...</td>\n",
       "      <td>False</td>\n",
       "    </tr>\n",
       "    <tr>\n",
       "      <th>1</th>\n",
       "      <td>David Lee</td>\n",
       "      <td>Marketing Manager</td>\n",
       "      <td>Acme Corp</td>\n",
       "      <td>Excited to announce the launch of our new prod...</td>\n",
       "      <td>False</td>\n",
       "    </tr>\n",
       "    <tr>\n",
       "      <th>2</th>\n",
       "      <td>Emily Chen</td>\n",
       "      <td>Data Scientist</td>\n",
       "      <td>Amazon</td>\n",
       "      <td>Did you know that the average person spends 6 ...</td>\n",
       "      <td>False</td>\n",
       "    </tr>\n",
       "    <tr>\n",
       "      <th>3</th>\n",
       "      <td>Michael Rodriguez</td>\n",
       "      <td>CEO</td>\n",
       "      <td>Startup Inc.</td>\n",
       "      <td>Building a company is like building a house - ...</td>\n",
       "      <td>False</td>\n",
       "    </tr>\n",
       "    <tr>\n",
       "      <th>4</th>\n",
       "      <td>Jessica Williams</td>\n",
       "      <td>Professor</td>\n",
       "      <td>University of California</td>\n",
       "      <td>My students are brilliant! So impressed by the...</td>\n",
       "      <td>True</td>\n",
       "    </tr>\n",
       "  </tbody>\n",
       "</table>\n",
       "</div>"
      ],
      "text/plain": [
       "         author_name       author_title            author_company  \\\n",
       "0        Sarah Jones  Software Engineer                    Google   \n",
       "1          David Lee  Marketing Manager                 Acme Corp   \n",
       "2         Emily Chen     Data Scientist                    Amazon   \n",
       "3  Michael Rodriguez                CEO              Startup Inc.   \n",
       "4   Jessica Williams          Professor  University of California   \n",
       "\n",
       "                                           post_text  Interacted  \n",
       "0  Just spent an hour debugging a semicolon. 🤦‍♀️...       False  \n",
       "1  Excited to announce the launch of our new prod...       False  \n",
       "2  Did you know that the average person spends 6 ...       False  \n",
       "3  Building a company is like building a house - ...       False  \n",
       "4  My students are brilliant! So impressed by the...        True  "
      ]
     },
     "execution_count": 132,
     "metadata": {},
     "output_type": "execute_result"
    }
   ],
   "source": [
    "posts_df.head()"
   ]
  },
  {
   "cell_type": "code",
   "execution_count": 133,
   "metadata": {},
   "outputs": [],
   "source": [
    "posts_df.to_csv(\"data/posts_interactions.csv\")"
   ]
  }
 ],
 "metadata": {
  "kernelspec": {
   "display_name": ".venv",
   "language": "python",
   "name": "python3"
  },
  "language_info": {
   "codemirror_mode": {
    "name": "ipython",
    "version": 3
   },
   "file_extension": ".py",
   "mimetype": "text/x-python",
   "name": "python",
   "nbconvert_exporter": "python",
   "pygments_lexer": "ipython3",
   "version": "3.11.9"
  }
 },
 "nbformat": 4,
 "nbformat_minor": 2
}
